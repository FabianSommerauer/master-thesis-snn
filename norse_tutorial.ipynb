{
 "cells": [
  {
   "cell_type": "code",
   "execution_count": 1,
   "id": "initial_id",
   "metadata": {
    "collapsed": true,
    "jupyter": {
     "outputs_hidden": true
    },
    "tags": []
   },
   "outputs": [],
   "source": [
    "import torch, torch.nn as nn\n",
    "import norse.torch as norse\n",
    "import matplotlib.pyplot as plt"
   ]
  },
  {
   "cell_type": "code",
   "execution_count": 2,
   "id": "6d3a2a9125eabd66",
   "metadata": {
    "collapsed": false,
    "jupyter": {
     "outputs_hidden": false
    },
    "tags": []
   },
   "outputs": [],
   "source": [
    "from ipywidgets import interact, IntSlider, FloatSlider\n",
    "from functools import partial\n",
    "IntSlider = partial(IntSlider, continuous_update=False)\n",
    "FloatSlider = partial(FloatSlider, continuous_update=False)"
   ]
  },
  {
   "cell_type": "code",
   "execution_count": 3,
   "id": "ba587629ff420fb9",
   "metadata": {
    "collapsed": false,
    "jupyter": {
     "outputs_hidden": false
    },
    "tags": []
   },
   "outputs": [
    {
     "data": {
      "application/vnd.jupyter.widget-view+json": {
       "model_id": "c2e90551a4e647c4a49105d0aff008e6",
       "version_major": 2,
       "version_minor": 0
      },
      "text/plain": [
       "interactive(children=(FloatSlider(value=10.0, continuous_update=False, description='tau_mem', max=200.0, min=1…"
      ]
     },
     "metadata": {},
     "output_type": "display_data"
    }
   ],
   "source": [
    "@interact(\n",
    "    tau_mem=FloatSlider(min=10,max=200,step=1.0, value=10),\n",
    "    tau_syn=FloatSlider(min=10,max=200,step=1.0, value=20),\n",
    "    t0=IntSlider(min=0, max=1000, step=1, value=20),\n",
    "    t1=IntSlider(min=0, max=1000, step=1, value=100),\n",
    ")\n",
    "def experiment(tau_mem, tau_syn, t0, t1):\n",
    "    plt.figure()\n",
    "    num_neurons = 1\n",
    "    tau_mem_inv = torch.tensor([1/(tau_mem * 0.001)])\n",
    "    tau_syn_inv = torch.tensor([1/(tau_syn * 0.001)])\n",
    "    data = torch.zeros(1000,num_neurons)\n",
    "    data[t0] =  1.0\n",
    "    data[t1] = 1.0\n",
    "\n",
    "    voltage_trace, _ = norse.LI(p=norse.LIParameters(tau_mem_inv=tau_mem_inv, tau_syn_inv=tau_syn_inv))(data)\n",
    "    plt.xlabel('time [ms]')\n",
    "    plt.ylabel('membrane potential')\n",
    "    for i in range(num_neurons):\n",
    "        plt.plot(voltage_trace.detach()[:,i])\n",
    "    plt.axvline(t0, color='red', alpha=0.9)\n",
    "    plt.axvline(t1, color='red', alpha=0.9)\n",
    "    \n",
    "    plt.show()\n"
   ]
  },
  {
   "cell_type": "code",
   "execution_count": 4,
   "id": "68995b5b45bbdce8",
   "metadata": {
    "collapsed": false,
    "jupyter": {
     "outputs_hidden": false
    },
    "tags": []
   },
   "outputs": [],
   "source": [
    "def integrate_and_record_voltages(cell):\n",
    "    def integrate(input_spike_train):\n",
    "        T = input_spike_train.shape[0]\n",
    "        s = None\n",
    "        spikes = []\n",
    "        voltage_trace = []\n",
    "        for ts in range(T):\n",
    "            z, s = cell(input_spike_train[ts], s)\n",
    "            spikes.append(z)\n",
    "            voltage_trace.append(s.v)\n",
    "        return torch.stack(spikes), torch.stack(voltage_trace)\n",
    "    return integrate"
   ]
  },
  {
   "cell_type": "code",
   "execution_count": 6,
   "id": "55d06b44-4aab-4431-b9ea-10cafb113df7",
   "metadata": {
    "tags": []
   },
   "outputs": [
    {
     "data": {
      "application/vnd.jupyter.widget-view+json": {
       "model_id": "d20ab64003a140879b2037b1d7334758",
       "version_major": 2,
       "version_minor": 0
      },
      "text/plain": [
       "interactive(children=(FloatSlider(value=40.0, continuous_update=False, description='tau_mem', max=200.0, min=1…"
      ]
     },
     "metadata": {},
     "output_type": "display_data"
    }
   ],
   "source": [
    "@interact(\n",
    "    tau_mem=FloatSlider(min=10,max=200,step=1.0, value=40),\n",
    "    tau_syn=FloatSlider(min=10,max=200,step=1.0, value=60),\n",
    "    v_th=FloatSlider(min=0.1, max=2.0, step=0.1, value=0.8),\n",
    "    t0=IntSlider(min=0, max=1000, step=1, value=85),\n",
    "    t1=IntSlider(min=0, max=1000, step=1, value=150),\n",
    ")\n",
    "def experiment(tau_mem, tau_syn, v_th, t0, t1):\n",
    "    plt.figure()\n",
    "    num_neurons = 1\n",
    "    tau_syn_inv = torch.tensor([1/(tau_syn * 0.001)])\n",
    "    tau_mem_inv = torch.tensor([1/(tau_mem * 0.001)])\n",
    "    data = torch.zeros(1000,num_neurons)\n",
    "    data[20] = 1.0\n",
    "    data[t0] = 1.0\n",
    "    data[t1] = 1.0\n",
    "\n",
    "    cell = norse.LIFCell(p=norse.LIFParameters(tau_mem_inv=tau_mem_inv, tau_syn_inv=tau_syn_inv, v_th=torch.as_tensor(v_th)))\n",
    "    lif_integrate = integrate_and_record_voltages(cell)\n",
    "\n",
    "    voltage_trace, _ = norse.LI(p=norse.LIParameters(tau_mem_inv=tau_mem_inv, tau_syn_inv=tau_syn_inv))(data)\n",
    "    zs, lif_voltage_trace = lif_integrate(data)\n",
    "    plt.xlabel('time [ms]')\n",
    "    plt.ylabel('membrane potential')\n",
    "    plt.plot(voltage_trace.detach(), label=\"LI\")\n",
    "    plt.plot(lif_voltage_trace.detach(), label=\"LIF\")\n",
    "    plt.axhline(v_th, color='grey')\n",
    "    plt.legend()\n",
    "    plt.show()"
   ]
  },
  {
   "cell_type": "code",
   "execution_count": null,
   "id": "06874072-7ce8-4976-9e67-39136b21734a",
   "metadata": {},
   "outputs": [],
   "source": []
  }
 ],
 "metadata": {
  "kernelspec": {
   "display_name": "Python 3 (ipykernel)",
   "language": "python",
   "name": "python3"
  },
  "language_info": {
   "codemirror_mode": {
    "name": "ipython",
    "version": 3
   },
   "file_extension": ".py",
   "mimetype": "text/x-python",
   "name": "python",
   "nbconvert_exporter": "python",
   "pygments_lexer": "ipython3",
   "version": "3.10.13"
  }
 },
 "nbformat": 4,
 "nbformat_minor": 5
}
